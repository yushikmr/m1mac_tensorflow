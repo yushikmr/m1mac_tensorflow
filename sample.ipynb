{
 "cells": [
  {
   "cell_type": "markdown",
   "id": "f33d3318-5721-48fc-9c34-154f2247fe1d",
   "metadata": {},
   "source": [
    "# Tesorflow M1 MacBook お試し"
   ]
  },
  {
   "cell_type": "code",
   "execution_count": 1,
   "id": "6ef0ec97-fd0f-440e-887e-9e09640a6ee3",
   "metadata": {},
   "outputs": [],
   "source": [
    "import numpy as np\n",
    "import tensorflow as tf\n",
    "import matplotlib.pyplot as plt"
   ]
  },
  {
   "cell_type": "markdown",
   "id": "7a6057c9-6c70-42bc-b4fe-915f30d64d3c",
   "metadata": {},
   "source": [
    "## y = 2 * x + 1 の簡単な回帰でfittingをデモ"
   ]
  },
  {
   "cell_type": "code",
   "execution_count": 2,
   "id": "acc90fd6-f047-43f4-a498-b983496e2de9",
   "metadata": {},
   "outputs": [
    {
     "data": {
      "text/plain": [
       "<matplotlib.collections.PathCollection at 0x15257e2e0>"
      ]
     },
     "execution_count": 2,
     "metadata": {},
     "output_type": "execute_result"
    },
    {
     "data": {
      "image/png": "[encoded data removed]",
      "text/plain": [
       "<Figure size 432x288 with 1 Axes>"
      ]
     },
     "metadata": {
      "needs_background": "light"
     },
     "output_type": "display_data"
    }
   ],
   "source": [
    "n_sample = 100\n",
    "dataset_x = np.random.rand(n_sample)\n",
    "dataset_y = 2 * dataset_x + 1 + np.random.normal(0, 0.05, n_sample) # ちょこっとノイズ加える\n",
    "# plot\n",
    "plt.scatter(dataset_x, dataset_y)"
   ]
  },
  {
   "cell_type": "markdown",
   "id": "9a9efc72-9982-442a-aa81-a57b83495462",
   "metadata": {},
   "source": [
    "## 自動微分を使って重みパラメータをfitting"
   ]
  },
  {
   "cell_type": "code",
   "execution_count": 3,
   "id": "c639e22d-70be-4e08-8e4c-248eee11c506",
   "metadata": {},
   "outputs": [
    {
     "name": "stdout",
     "output_type": "stream",
     "text": [
      "w = [[1.75216404]], b = [[1.14888086]], loss = 0.8518444412697204\n"
     ]
    },
    {
     "data": {
      "image/png": "[encoded data removed]",
      "text/plain": [
       "<Figure size 432x288 with 1 Axes>"
      ]
     },
     "metadata": {
      "needs_background": "light"
     },
     "output_type": "display_data"
    }
   ],
   "source": [
    "w = tf.Variable(np.zeros([1,1])) # fottingしたい変数\n",
    "b = tf.Variable(np.zeros([1,1])) # あらかじめ正しい値を入れておく\n",
    "x = tf.constant(dataset_x)\n",
    "loss_log = [] # lossの推移記録用\n",
    "n_step = 100 # 学習回数\n",
    "for i in range(n_step):\n",
    "    with tf.GradientTape() as t:\n",
    "        t.watch(x) # tf.constantはwatachが必要らしい\n",
    "        y = w * x + b # object function\n",
    "        loss = tf.reduce_sum(tf.multiply(y - dataset_y, y - dataset_y)) # loss function\n",
    "    # 元の入力テンソル w, b に対する loss の微分\n",
    "    dloss_dparams = t.gradient(loss, [w, b]) # 自動微分\n",
    "    w = tf.Variable(tf.subtract(w, dloss_dparams[0] * 0.001)) # 値の更新\n",
    "    b = tf.Variable(tf.subtract(b, dloss_dparams[1] * 0.001)) # 値の更新\n",
    "    loss_log.append(loss)\n",
    "    #print(f'step {i + 1}: w = {w.numpy()}, b = {b.numpy()}, loss = {loss}')\n",
    "# loss の推移を確認\n",
    "print(f'w = {w.numpy()}, b = {b.numpy()}, loss = {loss}')\n",
    "plt.plot([i for i in range(n_step)], loss_log)\n",
    "plt.xlabel('step ')\n",
    "plt.ylabel('loss')\n",
    "plt.show()"
   ]
  },
  {
   "cell_type": "markdown",
   "id": "5d83f6ff-1530-490c-b913-491e6ed17bd1",
   "metadata": {},
   "source": [
    "## Optimizerを使用したパラメータの自動更新\n",
    "\n",
    "`tf.keras.optimizers`から使用できる。今回はSGDを使用"
   ]
  },
  {
   "cell_type": "code",
   "execution_count": 4,
   "id": "9e0617d8-0eb7-4d62-bda0-d42f320117d9",
   "metadata": {},
   "outputs": [
    {
     "name": "stdout",
     "output_type": "stream",
     "text": [
      "w = [[1.75216406]], b = [[1.14888085]], loss = 0.8518443511729884\n"
     ]
    },
    {
     "data": {
      "image/png": "[encoded data removed]",
      "text/plain": [
       "<Figure size 432x288 with 1 Axes>"
      ]
     },
     "metadata": {
      "needs_background": "light"
     },
     "output_type": "display_data"
    }
   ],
   "source": [
    "w = tf.Variable(np.zeros([1,1])) # fottingしたい変数\n",
    "b = tf.Variable(np.zeros([1,1])) # あらかじめ正しい値を入れておく\n",
    "# optimizerの定義\n",
    "opt = tf.keras.optimizers.SGD(learning_rate=0.001, momentum=0)\n",
    "x = tf.constant(dataset_x)\n",
    "loss_log = [] # lossの推移記録用\n",
    "n_step = 100 # 学習回数\n",
    "for i in range(n_step):\n",
    "    with tf.GradientTape() as t:\n",
    "        t.watch(x) # tf.constantはwatachが必要らしい\n",
    "        y = w * x + b # object function\n",
    "        loss = tf.reduce_sum(tf.multiply(y - dataset_y, y - dataset_y)) # loss function\n",
    "    # 元の入力テンソル w, b に対する loss の微分\n",
    "    dloss_dparams = t.gradient(loss, [w, b]) # 自動微分\n",
    "    # 微分結果を元に重み修正\n",
    "    opt.apply_gradients(zip(dloss_dparams, [w, b]))\n",
    "    loss_log.append(loss)\n",
    "    \n",
    "    #print(f'step {i + 1}: w = {w.numpy()}, b = {b.numpy()}, loss = {loss}')\n",
    "# loss の推移を確認\n",
    "print(f'w = {w.numpy()}, b = {b.numpy()}, loss = {loss}')\n",
    "plt.plot([i for i in range(n_step)], loss_log)\n",
    "plt.xlabel('step ')\n",
    "plt.ylabel('loss')\n",
    "plt.show()"
   ]
  },
  {
   "cell_type": "code",
   "execution_count": null,
   "id": "55784ae2-8fb7-47b4-9707-07bf62533b7f",
   "metadata": {},
   "outputs": [],
   "source": []
  },
  {
   "cell_type": "code",
   "execution_count": null,
   "id": "cbad4085-da0d-4f0e-9074-a03aca74ce37",
   "metadata": {},
   "outputs": [],
   "source": []
  }
 ],
 "metadata": {
  "kernelspec": {
   "display_name": "m1_mac_tensorflow",
   "language": "python",
   "name": "m1_mac_tensorflow"
  },
  "language_info": {
   "codemirror_mode": {
    "name": "ipython",
    "version": 3
   },
   "file_extension": ".py",
   "mimetype": "text/x-python",
   "name": "python",
   "nbconvert_exporter": "python",
   "pygments_lexer": "ipython3",
   "version": "3.8.12"
  }
 },
 "nbformat": 4,
 "nbformat_minor": 5
}
